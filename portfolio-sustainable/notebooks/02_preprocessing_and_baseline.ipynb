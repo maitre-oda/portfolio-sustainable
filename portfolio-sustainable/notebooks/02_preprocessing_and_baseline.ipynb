{
 "cells": [
  {
   "cell_type": "markdown",
   "id": "4baaa722",
   "metadata": {},
   "source": [
    "# 02 — Préprocessing CO₂ & Baseline équipondéré"
   ]
  },
  {
   "cell_type": "code",
   "execution_count": null,
   "id": "6b9d1ff8",
   "metadata": {},
   "outputs": [],
   "source": [
    "import pandas as pd, numpy as np, json\n",
    "from pathlib import Path\n",
    "from src.metrics import annualized_return, annualized_volatility, cvar, max_drawdown\n",
    "DATA_RAW = Path('../data/raw'); DATA_PROC = Path('../data/processed'); REPORTS = Path('../reports/results'); REPORTS.mkdir(parents=True, exist_ok=True)"
   ]
  },
  {
   "cell_type": "code",
   "execution_count": null,
   "id": "a4fd7b3e",
   "metadata": {},
   "outputs": [],
   "source": [
    "returns = pd.read_csv(DATA_PROC/'returns.csv', index_col=0, parse_dates=True)\n",
    "co2 = pd.read_csv(DATA_RAW/'co2_proxy.csv')\n",
    "tickers = pd.read_csv('../tickers.csv')\n",
    "universe = sorted(set(returns.columns) & set(tickers['Ticker']) & set(co2['Ticker']))\n",
    "returns = returns[universe].dropna(how='all')\n",
    "co2 = co2[co2['Ticker'].isin(universe)].drop_duplicates('Ticker')\n",
    "len(universe), universe[:10]"
   ]
  },
  {
   "cell_type": "code",
   "execution_count": null,
   "id": "30872bc3",
   "metadata": {},
   "outputs": [],
   "source": [
    "w = np.repeat(1/len(universe), len(universe))\n",
    "port_ret = (returns * w).sum(axis=1)\n",
    "ann_ret = annualized_return(port_ret)\n",
    "ann_vol = annualized_volatility(port_ret)\n",
    "cvar95  = cvar(port_ret, alpha=0.95)\n",
    "cum = (1 + port_ret).cumprod()\n",
    "mdd = max_drawdown(cum)\n",
    "co2_map = co2.set_index('Ticker')['CO2_intensity'].reindex(universe).fillna(co2['CO2_intensity'].median())\n",
    "port_co2 = float(np.dot(w, co2_map.values))\n",
    "metrics = {\"n_assets\": len(universe),\"annualized_return\": float(ann_ret),\"annualized_volatility\": float(ann_vol),\"cvar_95\": float(cvar95),\"max_drawdown\": float(mdd),\"co2_intensity_weighted\": float(port_co2),}\n",
    "metrics"
   ]
  },
  {
   "cell_type": "code",
   "execution_count": null,
   "id": "e0df803f",
   "metadata": {},
   "outputs": [],
   "source": [
    "with open(REPORTS/'baseline_metrics.json', 'w') as f: json.dump(metrics, f, indent=2)\n",
    "pd.Series(metrics)"
   ]
  }
 ],
 "metadata": {},
 "nbformat": 4,
 "nbformat_minor": 5
}