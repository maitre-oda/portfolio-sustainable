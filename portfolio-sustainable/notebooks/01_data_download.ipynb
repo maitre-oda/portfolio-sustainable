{
 "cells": [
  {
   "cell_type": "markdown",
   "id": "493d9938",
   "metadata": {},
   "source": [
    "# 01 — Téléchargement & préparation des données"
   ]
  },
  {
   "cell_type": "code",
   "execution_count": null,
   "id": "0121cc10",
   "metadata": {},
   "outputs": [],
   "source": [
    "import pandas as pd, numpy as np\n",
    "import yfinance as yf\n",
    "from pathlib import Path\n",
    "DATA_RAW = Path('../data/raw'); DATA_PROC = Path('../data/processed')\n",
    "print('Chemins OK:', DATA_RAW.resolve(), DATA_PROC.resolve())"
   ]
  },
  {
   "cell_type": "code",
   "execution_count": null,
   "id": "ce9a4049",
   "metadata": {},
   "outputs": [],
   "source": [
    "tickers_df = pd.read_csv('../tickers.csv')\n",
    "tickers = tickers_df['Ticker'].dropna().unique().tolist()\n",
    "len(tickers), tickers[:10]"
   ]
  },
  {
   "cell_type": "code",
   "execution_count": null,
   "id": "bff232b5",
   "metadata": {},
   "outputs": [],
   "source": [
    "start = '2015-01-01'; end = None\n",
    "data = yf.download(tickers, start=start, end=end, auto_adjust=True, progress=True)['Close']\n",
    "DATA_RAW.mkdir(parents=True, exist_ok=True); data.to_csv(DATA_RAW/'prices.csv'); data.tail()"
   ]
  },
  {
   "cell_type": "code",
   "execution_count": null,
   "id": "afcb2564",
   "metadata": {},
   "outputs": [],
   "source": [
    "returns = data.pct_change().dropna(how='all')\n",
    "DATA_PROC.mkdir(parents=True, exist_ok=True); returns.to_csv(DATA_PROC/'returns.csv'); returns.tail()"
   ]
  }
 ],
 "metadata": {},
 "nbformat": 4,
 "nbformat_minor": 5
}